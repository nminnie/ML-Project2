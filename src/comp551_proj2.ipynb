{
 "cells": [
  {
   "cell_type": "code",
   "execution_count": 0,
   "metadata": {
    "id": "nr_pRkcIco0T",
    "colab_type": "code",
    "colab": {}
   },
   "outputs": [],
   "source": [
    "import os\n",
    "import pandas as pd\n",
    "from sklearn.model_selection import train_test_split"
   ]
  },
  {
   "cell_type": "code",
   "execution_count": 2,
   "metadata": {
    "id": "Gzm23lscW8Dc",
    "colab_type": "code",
    "outputId": "816ee5da-a5e5-4d2d-eb52-0d5e063cb25e",
    "colab": {
     "base_uri": "https://localhost:8080/",
     "height": 124.0
    }
   },
   "outputs": [
    {
     "name": "stdout",
     "output_type": "stream",
     "text": [
      "Go to this URL in a browser: https://accounts.google.com/o/oauth2/auth?client_id=947318989803-6bn6qk8qdgf4n4g3pfee6491hc0brc4i.apps.googleusercontent.com&redirect_uri=urn%3Aietf%3Awg%3Aoauth%3A2.0%3Aoob&scope=email%20https%3A%2F%2Fwww.googleapis.com%2Fauth%2Fdocs.test%20https%3A%2F%2Fwww.googleapis.com%2Fauth%2Fdrive%20https%3A%2F%2Fwww.googleapis.com%2Fauth%2Fdrive.photos.readonly%20https%3A%2F%2Fwww.googleapis.com%2Fauth%2Fpeopleapi.readonly&response_type=code\n",
      "\n",
      "Enter your authorization code:\n",
      "··········\n",
      "Mounted at /content/gdrive\n"
     ]
    }
   ],
   "source": [
    "from google.colab import *\n",
    "drive.mount('/content/gdrive', force_remount=True)"
   ]
  },
  {
   "cell_type": "code",
   "execution_count": 3,
   "metadata": {
    "id": "NMwlrG9_VzUE",
    "colab_type": "code",
    "outputId": "4e06157b-e870-409e-800c-b52ecead5562",
    "colab": {
     "base_uri": "https://localhost:8080/",
     "height": 227.0
    }
   },
   "outputs": [
    {
     "name": "stdout",
     "output_type": "stream",
     "text": [
      "Requirement already up-to-date: kaggle in /usr/local/lib/python3.6/dist-packages (1.5.2)\n",
      "Requirement already satisfied, skipping upgrade: urllib3<1.23.0,>=1.15 in /usr/local/lib/python3.6/dist-packages (from kaggle) (1.22)\n",
      "Requirement already satisfied, skipping upgrade: six>=1.10 in /usr/local/lib/python3.6/dist-packages (from kaggle) (1.11.0)\n",
      "Requirement already satisfied, skipping upgrade: certifi in /usr/local/lib/python3.6/dist-packages (from kaggle) (2018.11.29)\n",
      "Requirement already satisfied, skipping upgrade: python-dateutil in /usr/local/lib/python3.6/dist-packages (from kaggle) (2.5.3)\n",
      "Requirement already satisfied, skipping upgrade: requests in /usr/local/lib/python3.6/dist-packages (from kaggle) (2.18.4)\n",
      "Requirement already satisfied, skipping upgrade: tqdm in /usr/local/lib/python3.6/dist-packages (from kaggle) (4.28.1)\n",
      "Requirement already satisfied, skipping upgrade: python-slugify in /usr/local/lib/python3.6/dist-packages (from kaggle) (2.0.1)\n",
      "Requirement already satisfied, skipping upgrade: idna<2.7,>=2.5 in /usr/local/lib/python3.6/dist-packages (from requests->kaggle) (2.6)\n",
      "Requirement already satisfied, skipping upgrade: chardet<3.1.0,>=3.0.2 in /usr/local/lib/python3.6/dist-packages (from requests->kaggle) (3.0.4)\n",
      "Requirement already satisfied, skipping upgrade: Unidecode>=0.04.16 in /usr/local/lib/python3.6/dist-packages (from python-slugify->kaggle) (1.0.23)\n"
     ]
    }
   ],
   "source": [
    "! pip install kaggle --upgrade\n",
    "! mkdir -p ~/.kaggle/\n",
    "! cp 'gdrive/My Drive/Colab Notebooks/kaggle/kaggle.json' ~/.kaggle/\n",
    "! mkdir imdb"
   ]
  },
  {
   "cell_type": "code",
   "execution_count": 4,
   "metadata": {
    "id": "h_n0CWfCWpRc",
    "colab_type": "code",
    "outputId": "4bed762a-1b44-4c24-b11f-3699d450c0af",
    "colab": {
     "base_uri": "https://localhost:8080/",
     "height": 173.0
    }
   },
   "outputs": [
    {
     "name": "stdout",
     "output_type": "stream",
     "text": [
      "Downloading test.zip to imdb\n",
      " 91% 18.0M/19.9M [00:00<00:00, 57.0MB/s]\n",
      "100% 19.9M/19.9M [00:00<00:00, 78.9MB/s]\n",
      "Downloading train.zip to imdb\n",
      " 85% 24.0M/28.1M [00:00<00:00, 42.7MB/s]\n",
      "100% 28.1M/28.1M [00:00<00:00, 93.3MB/s]\n",
      "Downloading sample_submission.csv to imdb\n",
      "  0% 0.00/184k [00:00<?, ?B/s]\n",
      "100% 184k/184k [00:00<00:00, 56.2MB/s]\n"
     ]
    }
   ],
   "source": [
    "! kaggle competitions download -c comp-551-imbd-sentiment-classification -p imdb"
   ]
  },
  {
   "cell_type": "code",
   "execution_count": 0,
   "metadata": {
    "id": "UGltI6PoXrQR",
    "colab_type": "code",
    "colab": {}
   },
   "outputs": [],
   "source": [
    "! unzip -q imdb/test.zip -d imdb/\n",
    "! unzip -q imdb/train.zip -d imdb/\n"
   ]
  },
  {
   "cell_type": "code",
   "execution_count": 0,
   "metadata": {
    "id": "JkL_izHOY3HN",
    "colab_type": "code",
    "colab": {}
   },
   "outputs": [],
   "source": [
    "train = pd.DataFrame(columns=['Id', 'Text', 'Target'])\n",
    "label = {'pos': 1, 'neg':0}\n",
    "for target in label.keys():\n",
    "  for file in os.listdir('imdb/train/%s/'%(target)):\n",
    "    id = file.replace('.txt', '')\n",
    "    with open('imdb/train/%s/%s'%(target, file)) as fp:\n",
    "      train = train.append({'Id': id, 'Text': fp.read(), 'Target': label[target]}, ignore_index=True)\n",
    "train.set_index('Id', inplace=True)"
   ]
  },
  {
   "cell_type": "code",
   "execution_count": 0,
   "metadata": {
    "id": "kWW5vNENbXI2",
    "colab_type": "code",
    "colab": {}
   },
   "outputs": [],
   "source": [
    "test = pd.DataFrame(columns=['Id', 'Text'])\n",
    "\n",
    "for file in os.listdir('imdb/test/'):\n",
    "  id = file.replace('.txt', '')\n",
    "  with open('imdb/test/%s'%(file)) as fp:\n",
    "      test = test.append({'Id': id, 'Text': fp.read()}, ignore_index=True)\n",
    "test.set_index('Id', inplace=True)"
   ]
  },
  {
   "cell_type": "code",
   "execution_count": 0,
   "metadata": {
    "id": "Zr8CCgnnm2xU",
    "colab_type": "code",
    "colab": {}
   },
   "outputs": [],
   "source": [
    "from sklearn.feature_extraction.text import CountVectorizer\n",
    "from sklearn.feature_extraction.text import TfidfVectorizer\n",
    "\n",
    "vectorizer = TfidfVectorizer(strip_accents='unicode', lowercase=True\n",
    "#                              , stop_words='english'\n",
    "                             ,ngram_range=(1,2)\n",
    "                            )\n",
    "\n",
    "full_text = list(train.iloc[:,0].values) + list(test.iloc[:,0].values)\n",
    "vectorizer.fit(full_text)\n",
    "X_train = vectorizer.transform(train.iloc[:,0].values)\n",
    "X_test = vectorizer.transform(test.iloc[:,0].values)\n",
    "y = train.iloc[:,1].values.astype(int)"
   ]
  },
  {
   "cell_type": "code",
   "execution_count": 20,
   "metadata": {
    "id": "rKbl5m-gLme3",
    "colab_type": "code",
    "outputId": "5379515a-ecbb-4f7e-de4d-966996f94670",
    "colab": {
     "base_uri": "https://localhost:8080/",
     "height": 35.0
    }
   },
   "outputs": [
    {
     "data": {
      "text/plain": [
       "((25000, 2466212), (25000, 2466212))"
      ]
     },
     "execution_count": 20,
     "metadata": {
      "tags": []
     },
     "output_type": "execute_result"
    }
   ],
   "source": [
    "X_train.shape, X_test.shape"
   ]
  },
  {
   "cell_type": "code",
   "execution_count": 0,
   "metadata": {
    "id": "FyIB_vuE3ZtA",
    "colab_type": "code",
    "outputId": "c8bf5c45-2da1-4950-b6b8-bdc73ddf6056",
    "colab": {
     "base_uri": "https://localhost:8080/",
     "height": 52.0
    }
   },
   "outputs": [
    {
     "name": "stdout",
     "output_type": "stream",
     "text": [
      "Fitting 25 folds for each of 2 candidates, totalling 50 fits\n"
     ]
    },
    {
     "name": "stderr",
     "output_type": "stream",
     "text": [
      "[Parallel(n_jobs=-1)]: Using backend LokyBackend with 2 concurrent workers.\n"
     ]
    }
   ],
   "source": [
    "from sklearn.model_selection import GridSearchCV\n",
    "from sklearn.naive_bayes import MultinomialNB\n",
    "from sklearn.tree import DecisionTreeClassifier\n",
    "from sklearn.svm import SVC\n",
    "from sklearn.linear_model import LogisticRegression\n",
    "\n",
    "parameters_mnb = {'alpha':[0, 1, 1.5, 2, 2.5, 3]}\n",
    "parameters_svm = {'C':[1], 'kernel': ['linear', 'rbf']}\n",
    "parameters_regression = {'penalty':['l2']\n",
    "                         ,'C': [1,2,3]\n",
    "                         #'fit_intercept':[True, False], 'max_iter':[1000]\n",
    "                        ,'solver':['sag', 'saga']}\n",
    "\n",
    "scoring = 'f1'\n",
    "\n",
    "naive_bayes = MultinomialNB()\n",
    "svm = SVC()\n",
    "regression = LogisticRegression()\n",
    "                  \n",
    "clf = GridSearchCV(svm, parameters_svm, cv=25, scoring=scoring, n_jobs=-1, verbose=3)\n",
    "clf.fit(X_train, y)"
   ]
  },
  {
   "cell_type": "code",
   "execution_count": 0,
   "metadata": {
    "id": "1oID7Koa8531",
    "colab_type": "code",
    "colab": {}
   },
   "outputs": [],
   "source": [
    "clf.cv_results_"
   ]
  },
  {
   "cell_type": "code",
   "execution_count": 0,
   "metadata": {
    "id": "vY1sToWF-e5-",
    "colab_type": "code",
    "colab": {}
   },
   "outputs": [],
   "source": [
    "clf.best_params_, clf.best_score_"
   ]
  },
  {
   "cell_type": "code",
   "execution_count": 0,
   "metadata": {
    "id": "R2qgOsTYBJbD",
    "colab_type": "code",
    "colab": {}
   },
   "outputs": [],
   "source": [
    "model = clf.best_estimator_\n",
    "y_pred = model.predict(X_test)\n",
    "test['Category'] = y_pred"
   ]
  },
  {
   "cell_type": "code",
   "execution_count": 0,
   "metadata": {
    "id": "Ve3cstNGDKIv",
    "colab_type": "code",
    "colab": {}
   },
   "outputs": [],
   "source": [
    "submission = test.drop(columns='Text')\n",
    "submission.to_csv('submission.csv')"
   ]
  },
  {
   "cell_type": "code",
   "execution_count": 0,
   "metadata": {
    "id": "AdSxBT9eDhdf",
    "colab_type": "code",
    "outputId": "a0c43987-50b1-4e62-9279-292fe8da9da1",
    "colab": {
     "base_uri": "https://localhost:8080/",
     "height": 52.0
    }
   },
   "outputs": [
    {
     "name": "stdout",
     "output_type": "stream",
     "text": [
      "100% 184k/184k [00:01<00:00, 143kB/s]\n",
      "Successfully submitted to COMP 551 - IMBD Sentiment Classification"
     ]
    }
   ],
   "source": [
    "! kaggle competitions submit -c comp-551-imbd-sentiment-classification -f submission.csv -m \"dummy submission\""
   ]
  },
  {
   "cell_type": "code",
   "execution_count": 0,
   "metadata": {
    "id": "CtDlCzOhQ4Xo",
    "colab_type": "code",
    "colab": {}
   },
   "outputs": [],
   "source": [
    ""
   ]
  }
 ],
 "metadata": {
  "colab": {
   "name": "comp551_proj2.ipynb",
   "version": "0.3.2",
   "provenance": []
  },
  "kernelspec": {
   "name": "python3",
   "display_name": "Python 3"
  }
 },
 "nbformat": 4,
 "nbformat_minor": 0
}
